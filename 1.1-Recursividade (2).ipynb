{
  "metadata": {
    "kernelspec": {
      "display_name": "Python 3 (ipykernel)",
      "language": "python",
      "name": "python3"
    },
    "language_info": {
      "codemirror_mode": {
        "name": "ipython",
        "version": 3
      },
      "file_extension": ".py",
      "mimetype": "text/x-python",
      "name": "python",
      "nbconvert_exporter": "python",
      "pygments_lexer": "ipython3",
      "version": "3.9.6"
    }
  },
  "nbformat_minor": 5,
  "nbformat": 4,
  "cells": [
    {
      "id": "c87bc264",
      "cell_type": "markdown",
      "source": "> Projeto Desenvolve <br>\nProgramação Intermediária com Python <br>\nProfa. Camila Laranjeira (mila@projetodesenvolve.com.br) <br>\n\n# 1.1 - Recursividade",
      "metadata": {}
    },
    {
      "id": "02e47197",
      "cell_type": "markdown",
      "source": "## Exercícios:\n\n#### **Q1**. \nFaça um procedimento recursivo que receba dois valores inteiros `a` e `b` e imprime o intervalo fechado entre eles. Se `a > b` imprima uma mensagem de erro.\n\n| Entrada |  Saída |\n| ------- | ------ |\n| 1 10    | 1 2 3 4 5 6 7 8 9 10 |\n| -5 1    | -5 -4 -3 -2 -1 |\n| 5 -5    | Valores invalidos |\n| 17 20   | 17 18 19 20 |",
      "metadata": {}
    },
    {
      "id": "e89a9966",
      "cell_type": "code",
      "source": "def imprimir_intervalo(a, b):\n    if a > b:\n        print(\"Valores invalidos\")\n    else:\n        print(a, end=' ')\n        if a != b:\n            imprimir_intervalo(a + 1, b)\n",
      "metadata": {},
      "outputs": [],
      "execution_count": null
    },
    {
      "id": "b48196ed",
      "cell_type": "markdown",
      "source": "---\n\n\n#### **Q2**. \nMudando **apenas uma linha**, altere o código anterior para imprimir o intervalo invertido.\n\n| Entrada |  Saída |\n| ------- | ------ |\n| 1 10    | 10 9 8 7 6 5 4 3 2 1 |\n| -5 1    | -1 -2 -3 -4 -5 |\n| 5 -5    | Valores invalidos |\n| 17 20   | 20 19 18 17 |",
      "metadata": {}
    },
    {
      "id": "4d0c21b4",
      "cell_type": "code",
      "source": "def imprimir_intervalo_invertido(a, b):\n    if a > b:\n        print(\"Valores invalidos\")\n    else:\n        print(b, end=' ')\n        if b != a:\n            imprimir_intervalo_invertido(a, b - 1)\n",
      "metadata": {},
      "outputs": [],
      "execution_count": null
    },
    {
      "id": "be727074",
      "cell_type": "markdown",
      "source": "\n\n---\n\n\n#### **Q3**. \nEscreva uma função recursiva que recebe um inteiro `n > 1` e calcula a soma dos valores entre `n` e `1`.\n\n| Entrada |  Saída |\n| ------- | ------ |\n| 5   | 15 |\n| 13  | 78 |",
      "metadata": {}
    },
    {
      "id": "c4da98b8",
      "cell_type": "code",
      "source": "def soma_recursiva(n):\n    if n == 1:\n        return 1\n    return n + soma_recursiva(n - 1)\n",
      "metadata": {},
      "outputs": [],
      "execution_count": null
    },
    {
      "id": "4142b276",
      "cell_type": "markdown",
      "source": "\n\n---\n\n\n#### **Q4**.  \n\nEscreva uma função recursiva que recebe um inteiro `n` e verifica se `n`é um valor primo, ou seja, se é divisível apenas por si mesmo e por `1`.",
      "metadata": {}
    },
    {
      "id": "4c96eb2d",
      "cell_type": "code",
      "source": "def eh_primo(n, divisor=2):\n    if n < 2:\n        return False\n    if divisor > n // 2:\n        return True\n    if n % divisor == 0:\n        return False\n    return eh_primo(n, divisor + 1)\n",
      "metadata": {},
      "outputs": [],
      "execution_count": null
    },
    {
      "id": "2a0ae81c",
      "cell_type": "markdown",
      "source": "\n\n---\n\n\n#### **Q5**. \nImplemente uma função recursiva que recebe um número inteiro decimal e retorna sua representação binária como uma string. Para realizar essa conversão, utilize o método de divisão sucessiva, onde você divide o número decimal por 2 e coleta os restos até que o quociente seja zero. A ordem dos restos coletados, de baixo para cima, forma o número binário correspondente.\n\n**Exemplo de Conversão:**\n\nPara converter o número decimal 13 para binário:\n```\n13 ÷ 2 = 6, resto 1\n6 ÷ 2 = 3, resto 0\n3 ÷ 2 = 1, resto 1\n1 ÷ 2 = 0, resto 1\n```\nLendo os restos de baixo para cima, obtemos o número binário `1101`.",
      "metadata": {}
    },
    {
      "id": "a7d954f0",
      "cell_type": "code",
      "source": "def decimal_para_binario(n):\n    if n == 0:\n        return ''\n    return decimal_para_binario(n // 2) + str(n % 2)\n\n# Para evitar string vazia se n == 0\ndef decimal_para_binario_seguro(n):\n    return '0' if n == 0 else decimal_para_binario(n)\n",
      "metadata": {},
      "outputs": [],
      "execution_count": null
    },
    {
      "id": "0f500709",
      "cell_type": "markdown",
      "source": "\n\n---\n\n\n#### **Extra**: \n\nImplemente uma função recursiva em Python que realiza a travessia em pré-ordem de uma árvore binária representada por listas aninhadas. Na travessia em pré-ordem (ou pré-fixada), o nó raiz é visitado primeiro, seguido pela subárvore esquerda e, por fim, pela subárvore direita. A questão fixa as constantes `RAIZ_IDX, ESQ_IDX, DIR_IDX` representando os índices da lista onde se encontra o valor raíz, o nó a esquerda e o nó a direita.\n\n```\n# Representação visual da árvore\n       4\n      / \\\n     2   5\n    / \\\n   1   3\n```",
      "metadata": {}
    },
    {
      "id": "10df4831",
      "cell_type": "code",
      "source": "RAIZ_IDX, ESQ_IDX, DIR_IDX = 0, 1, 2\n\ndef pre_ordem(arvore):\n    if arvore is None:\n        return\n    print(arvore[RAIZ_IDX], end=' ')\n    pre_ordem(arvore[ESQ_IDX])\n    pre_ordem(arvore[DIR_IDX])\n\n# Exemplo de uso\narvore = [\n    4,\n    [2, [1, None, None], [3, None, None]],\n    [5, None, None]\n]\n",
      "metadata": {},
      "outputs": [],
      "execution_count": null
    }
  ]
}