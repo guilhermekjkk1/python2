{
  "metadata": {
    "kernelspec": {
      "name": "",
      "display_name": ""
    },
    "language_info": {
      "name": "python"
    }
  },
  "nbformat_minor": 4,
  "nbformat": 4,
  "cells": [
    {
      "cell_type": "markdown",
      "source": "> Projeto Desenvolve <br>\nProgramação Intermediária com Python <br>\nProfa. Camila Laranjeira (mila@projetodesenvolve.com.br) <br>\n\n# 2.5 a 2.10 - Pilares da OO",
      "metadata": {}
    },
    {
      "cell_type": "markdown",
      "source": "## Exercícios\n\n#### Q1.\nEssa lista de exercícios terá como base a classe `Evento` criada em exercícios anteriores. Primeiramente criaremos a classe abstrata `EventoABC` com os métodos de instância abstratos `__str__(self)` e `isConcluido(self)`, indicando que todos as subclasses que dela herdarem devem implementar esses métodos.\n\n`EventoABC` também possui os atributos `_titulo` (string) e `_descricao` (string), cujos valores são recebidos e inicializados no construtor da classe. Note a convenção de nomenclatura indicando o caráter privado desses atributos.",
      "metadata": {}
    },
    {
      "cell_type": "code",
      "source": "from abc import ABC, abstractmethod\n\nclass EventoABC(ABC):\n    def __init__(self, titulo, descricao):\n        self._titulo = titulo\n        self._descricao = descricao\n\n    @abstractmethod\n    def __str__(self):\n        pass\n\n    @abstractmethod\n    def isConcluido(self):\n        pass\n",
      "metadata": {
        "vscode": {
          "languageId": "plaintext"
        }
      },
      "outputs": [],
      "execution_count": null
    },
    {
      "cell_type": "markdown",
      "source": "#### Q2.\n\nCrie a classe `DataHora` que dará suporte ao registro de eventos de calendário.\n* A classe possui o atributo de instância `_data_hora` (datetime) privado e um atributo de classe `FORMAT` inicializado com a formatação de string aceito para `_data_hora`, ou seja, `FORMAT = '%d/%m/%Y, %H:%M'`.\n* A classe **não possui construtor customizado**. A alteração de seu atributo se dará a partir da propriedade a seguir.\n* Crie a `property` `data_hora` para manipular o atributo `_data_hora`.\n    * O getter da propriedade deve retornar a data como uma string formatada (`%d/%m/%Y, %H:%M`). Use o atributo `FORMAT`. Consulte o [funcionamento do método `strftime`](https://www.programiz.com/python-programming/datetime/strftime).\n    * O setter da propriedade deve receber uma string de data formatada (`%d/%m/%Y, %H:%M`) e implementar um bloco try-except que tenta converter a string em `datetime` e lança um `ValueError` caso a entrada seja inválida. Use o atributo `FORMAT`. Consulte o [funcionamento do método `strptime`](https://www.digitalocean.com/community/tutorials/python-string-to-datetime-strptime).\n* Crie o método de instância `isPassado(self)` que avalia se a `_data_hora` é menor que `datetime.now()` (a data e hora atual) e retorna `True` em caso positivo, e `False` caso contrário.\n* Crie o método de instância `somaDias(self, num_dias)` que recebe um inteiro `num_dias`, soma esse valor ao atributo interno `_data_hora` e retorna a string formatada do resultado da soma (código dado a seguir).   \n```python\ndata_hora_somada = self._data_hora + datetime.timedelta(days=num_dias)\nreturn data_hora_somada.strftime(FORMAT)\n```\n\nTeste a classe `DataHora` com o seguinte código (altere o que for necessário):\n```python\n# instanciando o objeto\ndh = DataHora()\n\n# definindo a data_hora através da propriedade\ndh.data_hora = '05/02/2024, 12:30'\n\n## editando a data_hora através da função somaDias\ndh.data_hora = dh.somaDias(30)\n\n## imprimindo a data_hora editada e se é passado\nprint(dh.data_hora, dh.isPassado())\n```",
      "metadata": {
        "vscode": {
          "languageId": "plaintext"
        }
      }
    },
    {
      "cell_type": "code",
      "source": "from datetime import datetime, timedelta\n\nclass DataHora:\n    FORMAT = '%d/%m/%Y, %H:%M'\n\n    def __init__(self):\n        self._data_hora = None\n\n    @property\n    def data_hora(self):\n        return self._data_hora.strftime(self.FORMAT) if self._data_hora else None\n\n    @data_hora.setter\n    def data_hora(self, valor):\n        try:\n            self._data_hora = datetime.strptime(valor, self.FORMAT)\n        except ValueError:\n            raise ValueError('Data e hora em formato inválido')\n\n    def isPassado(self):\n        return self._data_hora < datetime.now()\n\n    def somaDias(self, num_dias):\n        data_hora_somada = self._data_hora + timedelta(days=num_dias)\n        return data_hora_somada.strftime(self.FORMAT)\n",
      "metadata": {
        "vscode": {
          "languageId": "plaintext"
        }
      },
      "outputs": [],
      "execution_count": null
    },
    {
      "cell_type": "markdown",
      "source": "#### Q3.\nCrie a classe `EventoUnico`:\n* A classe deve herdar de `EventoABC`.\n* Possui o atributo de instância `_data_hora` (classe `DataHora` que criamos previamente).\n* Seu construtor deve receber e inicializar os atributos da superclasse, além do valor de `_data_hora` recebido como uma string formatada (`%d/%m/%Y, %H:%M`). Note que para alterar `_data_hora` (objeto tipo `DataHora`), você deve manipular a propriedade interna da classe.\n*  Implementa os métodos abstratos da superclasse:\n    * Método `isConcluido()` que invoca o método `isPassado()` de `_data_hora` e retorna o seu resultado.\n    * Método `__str__` que imprime os atributos do evento na forma `\"Evento: _titulo, Data: _data_hora, Descrição: _descricao, Concluido: isConcluido()\"`. Note que `isConcluido()` é o método de avaliação implementado. \n* Crie o método de instância `editar_data_hora` que recebe uma string formatada e altera `_data_hora` (através de sua propriedade interna).\n    \n    \nTeste a classe `EventoUnico` com o seguinte código:\n```python\n# criar evento\nevento = EventoUnico('Reunião', 'Sala 302, prédio da esquina', '05/10/2023, 16:30')\nprint(evento)\n\n# editar data do evento (através da propriedade)\nevento.editar_data_hora('05/10/2024, 16:30')\nprint(evento)\n```",
      "metadata": {}
    },
    {
      "cell_type": "code",
      "source": "#### Classe EventoUnico",
      "metadata": {
        "vscode": {
          "languageId": "plaintext"
        }
      },
      "outputs": [],
      "execution_count": null
    },
    {
      "cell_type": "markdown",
      "source": "#### Q3.\nCrie a classe `EventoRecorrente`:\n* A classe deve herdar de `EventoABC`.\n* Possui como atributo próprio uma lista privada de objetos `DataHora` (como você deve nomear o atributo?).\n* Seu construtor recebe os atributos da superclasse, além dos atributos `data_hora_inicial` (string formatada), `data_hora_final` (string formatada) e `intervalo_repeticao` (int), sendo o intervalo dado em dias. Preencha a coleção `DataHora` de acordo com o intervalo de repetição fornecido. Dica: crie o objeto `DataHora` inicial e use sua função interna `somaDias` para criar iterativamente as novas instâncias do intervalo até chegar em `DataHora` final. \n*  Implementa os métodos abstratos da superclasse:\n    * Método `isConcluido(indice)` que que invoca o método `isPassado()` do elemento `indice` da coleção de objetos `DataHora` e retorna seu resultado. \n    * Método `__str__` que imprime (em um laço) **todos as ocorrências `i` do evento** na forma `\"Evento: _titulo, Data: data_hora[i], Descrição: _descricao, Concluido: isConcluido(i)\"`. \n* Crie o método `editar_data_hora` que recebe `data_hora_antiga` e `data_hora_nova` e altera o elemento da coleção de objetos `DataHora` que corresponde a `data_hora_antiga` fornecida.    \n\n\nTeste a classe `EventoRecorrente` com o seguinte código:\n```python\n# criar evento\neventos = EventoRecorrente(\n    'Reunião', 'Sala 302, prédio da esquina', \n    '05/01/2024, 16:30', '05/01/2025, 16:30', 30)\n\n# imprimir eventos\nprint(eventos)\n\n# editar um dos eventos\neventos.editar_data_hora('05/12/2024, 16:30', '05/12/2024, 11:30')\n\n# imprimir eventos\nprint(eventos)\n```",
      "metadata": {}
    },
    {
      "cell_type": "code",
      "source": "class EventoUnico(EventoABC):\n    def __init__(self, titulo, descricao, data_hora_str):\n        super().__init__(titulo, descricao)\n        self._data_hora = DataHora()\n        self._data_hora.data_hora = data_hora_str\n\n    def isConcluido(self):\n        return self._data_hora.isPassado()\n\n    def __str__(self):\n        return f\"Evento: {self._titulo}, Data: {self._data_hora.data_hora}, Descrição: {self._descricao}, Concluido: {self.isConcluido()}\"\n\n    def editar_data_hora(self, nova_data):\n        self._data_hora.data_hora = nova_data\n",
      "metadata": {
        "vscode": {
          "languageId": "plaintext"
        }
      },
      "outputs": [],
      "execution_count": null
    },
    {
      "cell_type": "markdown",
      "source": "#### Q4.\n\nPor fim, vamos só ver o polimorfismo em ação. Crie e preencha uma lista de eventos, sendo alguns do tipo `EventoUnico` e outros do tipo `EventoRecorrente`. Sobre essa lista, execute o laço de impressão a seguir:\n```python\nfor evento in lista_eventos: print(evento)\n```\nA função `print` irá invocar o método especial `__str__` das classes correspondentes dependendo do tipo do objeto recebido. Aí está o polimorfismo :)",
      "metadata": {}
    },
    {
      "cell_type": "code",
      "source": "class EventoRecorrente(EventoABC):\n    def __init__(self, titulo, descricao, data_inicial_str, data_final_str, intervalo_dias):\n        super().__init__(titulo, descricao)\n        self._datas_horas = []\n        atual = DataHora()\n        atual.data_hora = data_inicial_str\n        data_final = datetime.strptime(data_final_str, DataHora.FORMAT)\n\n        while atual._data_hora <= data_final:\n            novo = DataHora()\n            novo.data_hora = atual.data_hora\n            self._datas_horas.append(novo)\n            atual._data_hora += timedelta(days=intervalo_dias)\n\n    def isConcluido(self, indice):\n        return self._datas_horas[indice].isPassado()\n\n    def __str__(self):\n        resultado = ''\n        for i, dh in enumerate(self._datas_horas):\n            resultado += f\"Evento: {self._titulo}, Data: {dh.data_hora}, Descrição: {self._descricao}, Concluido: {self.isConcluido(i)}\\n\"\n        return resultado.strip()\n\n    def editar_data_hora(self, antiga, nova):\n        for dh in self._datas_horas:\n            if dh.data_hora == antiga:\n                dh.data_hora = nova\n                break\n\n5.\n    lista_eventos = [\n    EventoUnico('Consulta', 'Clínica ABC', '15/07/2024, 10:00'),\n    EventoRecorrente('Aula', 'Faculdade', '01/08/2024, 08:00', '01/12/2024, 08:00', 7)\n]\n\nfor evento in lista_eventos:\n    print(evento)\n",
      "metadata": {
        "vscode": {
          "languageId": "plaintext"
        }
      },
      "outputs": [],
      "execution_count": null
    }
  ]
}